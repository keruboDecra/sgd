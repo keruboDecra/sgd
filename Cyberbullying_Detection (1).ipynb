{
  "cells": [
    {
      "cell_type": "markdown",
      "metadata": {
        "id": "Fr-itcrYd8wJ"
      },
      "source": [
        "Exporatory Data Anaysis"
      ]
    },
    {
      "cell_type": "code",
      "execution_count": null,
      "metadata": {
        "colab": {
          "base_uri": "https://localhost:8080/"
        },
        "id": "lpTDR7pUdq_m",
        "outputId": "6864f0f2-acb3-4441-da43-ad582ee04cbe"
      },
      "outputs": [
        {
          "name": "stderr",
          "output_type": "stream",
          "text": [
            "[nltk_data] Downloading package stopwords to /root/nltk_data...\n",
            "[nltk_data]   Package stopwords is already up-to-date!\n",
            "[nltk_data] Downloading package wordnet to /root/nltk_data...\n",
            "[nltk_data]   Package wordnet is already up-to-date!\n"
          ]
        },
        {
          "name": "stdout",
          "output_type": "stream",
          "text": [
            "Requirement already satisfied: transformers in /usr/local/lib/python3.10/dist-packages (4.35.2)\n",
            "Requirement already satisfied: scikit-learn in /usr/local/lib/python3.10/dist-packages (1.2.2)\n",
            "Requirement already satisfied: filelock in /usr/local/lib/python3.10/dist-packages (from transformers) (3.13.1)\n",
            "Requirement already satisfied: huggingface-hub<1.0,>=0.16.4 in /usr/local/lib/python3.10/dist-packages (from transformers) (0.19.4)\n",
            "Requirement already satisfied: numpy>=1.17 in /usr/local/lib/python3.10/dist-packages (from transformers) (1.23.5)\n",
            "Requirement already satisfied: packaging>=20.0 in /usr/local/lib/python3.10/dist-packages (from transformers) (23.2)\n",
            "Requirement already satisfied: pyyaml>=5.1 in /usr/local/lib/python3.10/dist-packages (from transformers) (6.0.1)\n",
            "Requirement already satisfied: regex!=2019.12.17 in /usr/local/lib/python3.10/dist-packages (from transformers) (2023.6.3)\n",
            "Requirement already satisfied: requests in /usr/local/lib/python3.10/dist-packages (from transformers) (2.31.0)\n",
            "Requirement already satisfied: tokenizers<0.19,>=0.14 in /usr/local/lib/python3.10/dist-packages (from transformers) (0.15.0)\n",
            "Requirement already satisfied: safetensors>=0.3.1 in /usr/local/lib/python3.10/dist-packages (from transformers) (0.4.1)\n",
            "Requirement already satisfied: tqdm>=4.27 in /usr/local/lib/python3.10/dist-packages (from transformers) (4.66.1)\n",
            "Requirement already satisfied: scipy>=1.3.2 in /usr/local/lib/python3.10/dist-packages (from scikit-learn) (1.11.4)\n",
            "Requirement already satisfied: joblib>=1.1.1 in /usr/local/lib/python3.10/dist-packages (from scikit-learn) (1.3.2)\n",
            "Requirement already satisfied: threadpoolctl>=2.0.0 in /usr/local/lib/python3.10/dist-packages (from scikit-learn) (3.2.0)\n",
            "Requirement already satisfied: fsspec>=2023.5.0 in /usr/local/lib/python3.10/dist-packages (from huggingface-hub<1.0,>=0.16.4->transformers) (2023.6.0)\n",
            "Requirement already satisfied: typing-extensions>=3.7.4.3 in /usr/local/lib/python3.10/dist-packages (from huggingface-hub<1.0,>=0.16.4->transformers) (4.5.0)\n",
            "Requirement already satisfied: charset-normalizer<4,>=2 in /usr/local/lib/python3.10/dist-packages (from requests->transformers) (3.3.2)\n",
            "Requirement already satisfied: idna<4,>=2.5 in /usr/local/lib/python3.10/dist-packages (from requests->transformers) (3.6)\n",
            "Requirement already satisfied: urllib3<3,>=1.21.1 in /usr/local/lib/python3.10/dist-packages (from requests->transformers) (2.0.7)\n",
            "Requirement already satisfied: certifi>=2017.4.17 in /usr/local/lib/python3.10/dist-packages (from requests->transformers) (2023.11.17)\n"
          ]
        }
      ],
      "source": [
        "# Importing Necessary libraries\n",
        "import os\n",
        "from pathlib import Path\n",
        "from keras.preprocessing import image\n",
        "import matplotlib.pyplot as plt\n",
        "import pandas as pd\n",
        "import seaborn as sns\n",
        "import re\n",
        "from nltk.corpus import stopwords\n",
        "from nltk.stem import WordNetLemmatizer\n",
        "from sklearn.model_selection import train_test_split\n",
        "from sklearn.preprocessing import LabelEncoder\n",
        "from sklearn.feature_extraction.text import TfidfVectorizer\n",
        "# Download NLTK resources\n",
        "import nltk\n",
        "nltk.download('stopwords')\n",
        "nltk.download('wordnet')\n",
        "!pip install transformers scikit-learn\n",
        "import numpy as np\n",
        "import tensorflow as tf\n",
        "from tensorflow.keras.models import Sequential\n",
        "from tensorflow.keras.layers import Embedding, LSTM, Dense\n",
        "from tensorflow.keras.preprocessing.text import Tokenizer\n",
        "from tensorflow.keras.preprocessing.sequence import pad_sequences\n",
        "from sklearn.metrics import classification_report, accuracy_score\n",
        "from sklearn.feature_extraction.text import TfidfVectorizer\n",
        "from sklearn.linear_model import LogisticRegression\n",
        "from sklearn.metrics import accuracy_score, classification_report, confusion_matrix\n",
        "from sklearn.naive_bayes import MultinomialNB\n",
        "from sklearn.linear_model import SGDClassifier\n",
        "from sklearn.feature_extraction.text import TfidfVectorizer\n",
        "from sklearn.svm import SVC\n",
        "from sklearn.pipeline import make_pipeline\n",
        "from sklearn.metrics import classification_report, accuracy_score\n",
        "from sklearn.ensemble import RandomForestClassifier\n"
      ]
    },
    {
      "cell_type": "code",
      "execution_count": null,
      "metadata": {
        "colab": {
          "base_uri": "https://localhost:8080/"
        },
        "id": "_FgOEjd4d5dW",
        "outputId": "f716af9a-8510-418f-abde-364528c808eb"
      },
      "outputs": [
        {
          "name": "stdout",
          "output_type": "stream",
          "text": [
            "Drive already mounted at /content/drive; to attempt to forcibly remount, call drive.mount(\"/content/drive\", force_remount=True).\n"
          ]
        }
      ],
      "source": [
        "# Mounting Google Drive\n",
        "from google.colab import drive\n",
        "drive.mount('/content/drive')\n"
      ]
    },
    {
      "cell_type": "code",
      "execution_count": null,
      "metadata": {
        "id": "H_GDrQEphi03"
      },
      "outputs": [],
      "source": [
        "file_path = '/content/drive/My Drive/cyberbullying_tweets.csv'\n",
        "df = pd.read_csv(file_path)"
      ]
    },
    {
      "cell_type": "code",
      "execution_count": null,
      "metadata": {
        "colab": {
          "base_uri": "https://localhost:8080/",
          "height": 328
        },
        "id": "tOAwaA_kjVo5",
        "outputId": "106a00be-b376-4983-d18a-11c8f7e51fdf"
      },
      "outputs": [
        {
          "name": "stdout",
          "output_type": "stream",
          "text": [
            "First few rows of the dataset:\n",
            "                                          tweet_text cyberbullying_type\n",
            "0  In other words #katandandre, your food was cra...  not_cyberbullying\n",
            "1  Why is #aussietv so white? #MKR #theblock #ImA...  not_cyberbullying\n",
            "2  @XochitlSuckkks a classy whore? Or more red ve...  not_cyberbullying\n",
            "3  @Jason_Gio meh. :P  thanks for the heads up, b...  not_cyberbullying\n",
            "4  @RudhoeEnglish This is an ISIS account pretend...  not_cyberbullying\n"
          ]
        },
        {
          "data": {
            "text/html": [
              "\n",
              "  <div id=\"df-cd541742-8c94-4ff0-bbd0-0a6deb5963c2\" class=\"colab-df-container\">\n",
              "    <div>\n",
              "<style scoped>\n",
              "    .dataframe tbody tr th:only-of-type {\n",
              "        vertical-align: middle;\n",
              "    }\n",
              "\n",
              "    .dataframe tbody tr th {\n",
              "        vertical-align: top;\n",
              "    }\n",
              "\n",
              "    .dataframe thead th {\n",
              "        text-align: right;\n",
              "    }\n",
              "</style>\n",
              "<table border=\"1\" class=\"dataframe\">\n",
              "  <thead>\n",
              "    <tr style=\"text-align: right;\">\n",
              "      <th></th>\n",
              "      <th>tweet_text</th>\n",
              "      <th>cyberbullying_type</th>\n",
              "    </tr>\n",
              "  </thead>\n",
              "  <tbody>\n",
              "    <tr>\n",
              "      <th>47687</th>\n",
              "      <td>Black ppl aren't expected to do anything, depe...</td>\n",
              "      <td>ethnicity</td>\n",
              "    </tr>\n",
              "    <tr>\n",
              "      <th>47688</th>\n",
              "      <td>Turner did not withhold his disappointment. Tu...</td>\n",
              "      <td>ethnicity</td>\n",
              "    </tr>\n",
              "    <tr>\n",
              "      <th>47689</th>\n",
              "      <td>I swear to God. This dumb nigger bitch. I have...</td>\n",
              "      <td>ethnicity</td>\n",
              "    </tr>\n",
              "    <tr>\n",
              "      <th>47690</th>\n",
              "      <td>Yea fuck you RT @therealexel: IF YOURE A NIGGE...</td>\n",
              "      <td>ethnicity</td>\n",
              "    </tr>\n",
              "    <tr>\n",
              "      <th>47691</th>\n",
              "      <td>Bro. U gotta chill RT @CHILLShrammy: Dog FUCK ...</td>\n",
              "      <td>ethnicity</td>\n",
              "    </tr>\n",
              "  </tbody>\n",
              "</table>\n",
              "</div>\n",
              "    <div class=\"colab-df-buttons\">\n",
              "\n",
              "  <div class=\"colab-df-container\">\n",
              "    <button class=\"colab-df-convert\" onclick=\"convertToInteractive('df-cd541742-8c94-4ff0-bbd0-0a6deb5963c2')\"\n",
              "            title=\"Convert this dataframe to an interactive table.\"\n",
              "            style=\"display:none;\">\n",
              "\n",
              "  <svg xmlns=\"http://www.w3.org/2000/svg\" height=\"24px\" viewBox=\"0 -960 960 960\">\n",
              "    <path d=\"M120-120v-720h720v720H120Zm60-500h600v-160H180v160Zm220 220h160v-160H400v160Zm0 220h160v-160H400v160ZM180-400h160v-160H180v160Zm440 0h160v-160H620v160ZM180-180h160v-160H180v160Zm440 0h160v-160H620v160Z\"/>\n",
              "  </svg>\n",
              "    </button>\n",
              "\n",
              "  <style>\n",
              "    .colab-df-container {\n",
              "      display:flex;\n",
              "      gap: 12px;\n",
              "    }\n",
              "\n",
              "    .colab-df-convert {\n",
              "      background-color: #E8F0FE;\n",
              "      border: none;\n",
              "      border-radius: 50%;\n",
              "      cursor: pointer;\n",
              "      display: none;\n",
              "      fill: #1967D2;\n",
              "      height: 32px;\n",
              "      padding: 0 0 0 0;\n",
              "      width: 32px;\n",
              "    }\n",
              "\n",
              "    .colab-df-convert:hover {\n",
              "      background-color: #E2EBFA;\n",
              "      box-shadow: 0px 1px 2px rgba(60, 64, 67, 0.3), 0px 1px 3px 1px rgba(60, 64, 67, 0.15);\n",
              "      fill: #174EA6;\n",
              "    }\n",
              "\n",
              "    .colab-df-buttons div {\n",
              "      margin-bottom: 4px;\n",
              "    }\n",
              "\n",
              "    [theme=dark] .colab-df-convert {\n",
              "      background-color: #3B4455;\n",
              "      fill: #D2E3FC;\n",
              "    }\n",
              "\n",
              "    [theme=dark] .colab-df-convert:hover {\n",
              "      background-color: #434B5C;\n",
              "      box-shadow: 0px 1px 3px 1px rgba(0, 0, 0, 0.15);\n",
              "      filter: drop-shadow(0px 1px 2px rgba(0, 0, 0, 0.3));\n",
              "      fill: #FFFFFF;\n",
              "    }\n",
              "  </style>\n",
              "\n",
              "    <script>\n",
              "      const buttonEl =\n",
              "        document.querySelector('#df-cd541742-8c94-4ff0-bbd0-0a6deb5963c2 button.colab-df-convert');\n",
              "      buttonEl.style.display =\n",
              "        google.colab.kernel.accessAllowed ? 'block' : 'none';\n",
              "\n",
              "      async function convertToInteractive(key) {\n",
              "        const element = document.querySelector('#df-cd541742-8c94-4ff0-bbd0-0a6deb5963c2');\n",
              "        const dataTable =\n",
              "          await google.colab.kernel.invokeFunction('convertToInteractive',\n",
              "                                                    [key], {});\n",
              "        if (!dataTable) return;\n",
              "\n",
              "        const docLinkHtml = 'Like what you see? Visit the ' +\n",
              "          '<a target=\"_blank\" href=https://colab.research.google.com/notebooks/data_table.ipynb>data table notebook</a>'\n",
              "          + ' to learn more about interactive tables.';\n",
              "        element.innerHTML = '';\n",
              "        dataTable['output_type'] = 'display_data';\n",
              "        await google.colab.output.renderOutput(dataTable, element);\n",
              "        const docLink = document.createElement('div');\n",
              "        docLink.innerHTML = docLinkHtml;\n",
              "        element.appendChild(docLink);\n",
              "      }\n",
              "    </script>\n",
              "  </div>\n",
              "\n",
              "\n",
              "<div id=\"df-f38bf192-f4e8-4ebb-8b25-0f496c6755f6\">\n",
              "  <button class=\"colab-df-quickchart\" onclick=\"quickchart('df-f38bf192-f4e8-4ebb-8b25-0f496c6755f6')\"\n",
              "            title=\"Suggest charts\"\n",
              "            style=\"display:none;\">\n",
              "\n",
              "<svg xmlns=\"http://www.w3.org/2000/svg\" height=\"24px\"viewBox=\"0 0 24 24\"\n",
              "     width=\"24px\">\n",
              "    <g>\n",
              "        <path d=\"M19 3H5c-1.1 0-2 .9-2 2v14c0 1.1.9 2 2 2h14c1.1 0 2-.9 2-2V5c0-1.1-.9-2-2-2zM9 17H7v-7h2v7zm4 0h-2V7h2v10zm4 0h-2v-4h2v4z\"/>\n",
              "    </g>\n",
              "</svg>\n",
              "  </button>\n",
              "\n",
              "<style>\n",
              "  .colab-df-quickchart {\n",
              "      --bg-color: #E8F0FE;\n",
              "      --fill-color: #1967D2;\n",
              "      --hover-bg-color: #E2EBFA;\n",
              "      --hover-fill-color: #174EA6;\n",
              "      --disabled-fill-color: #AAA;\n",
              "      --disabled-bg-color: #DDD;\n",
              "  }\n",
              "\n",
              "  [theme=dark] .colab-df-quickchart {\n",
              "      --bg-color: #3B4455;\n",
              "      --fill-color: #D2E3FC;\n",
              "      --hover-bg-color: #434B5C;\n",
              "      --hover-fill-color: #FFFFFF;\n",
              "      --disabled-bg-color: #3B4455;\n",
              "      --disabled-fill-color: #666;\n",
              "  }\n",
              "\n",
              "  .colab-df-quickchart {\n",
              "    background-color: var(--bg-color);\n",
              "    border: none;\n",
              "    border-radius: 50%;\n",
              "    cursor: pointer;\n",
              "    display: none;\n",
              "    fill: var(--fill-color);\n",
              "    height: 32px;\n",
              "    padding: 0;\n",
              "    width: 32px;\n",
              "  }\n",
              "\n",
              "  .colab-df-quickchart:hover {\n",
              "    background-color: var(--hover-bg-color);\n",
              "    box-shadow: 0 1px 2px rgba(60, 64, 67, 0.3), 0 1px 3px 1px rgba(60, 64, 67, 0.15);\n",
              "    fill: var(--button-hover-fill-color);\n",
              "  }\n",
              "\n",
              "  .colab-df-quickchart-complete:disabled,\n",
              "  .colab-df-quickchart-complete:disabled:hover {\n",
              "    background-color: var(--disabled-bg-color);\n",
              "    fill: var(--disabled-fill-color);\n",
              "    box-shadow: none;\n",
              "  }\n",
              "\n",
              "  .colab-df-spinner {\n",
              "    border: 2px solid var(--fill-color);\n",
              "    border-color: transparent;\n",
              "    border-bottom-color: var(--fill-color);\n",
              "    animation:\n",
              "      spin 1s steps(1) infinite;\n",
              "  }\n",
              "\n",
              "  @keyframes spin {\n",
              "    0% {\n",
              "      border-color: transparent;\n",
              "      border-bottom-color: var(--fill-color);\n",
              "      border-left-color: var(--fill-color);\n",
              "    }\n",
              "    20% {\n",
              "      border-color: transparent;\n",
              "      border-left-color: var(--fill-color);\n",
              "      border-top-color: var(--fill-color);\n",
              "    }\n",
              "    30% {\n",
              "      border-color: transparent;\n",
              "      border-left-color: var(--fill-color);\n",
              "      border-top-color: var(--fill-color);\n",
              "      border-right-color: var(--fill-color);\n",
              "    }\n",
              "    40% {\n",
              "      border-color: transparent;\n",
              "      border-right-color: var(--fill-color);\n",
              "      border-top-color: var(--fill-color);\n",
              "    }\n",
              "    60% {\n",
              "      border-color: transparent;\n",
              "      border-right-color: var(--fill-color);\n",
              "    }\n",
              "    80% {\n",
              "      border-color: transparent;\n",
              "      border-right-color: var(--fill-color);\n",
              "      border-bottom-color: var(--fill-color);\n",
              "    }\n",
              "    90% {\n",
              "      border-color: transparent;\n",
              "      border-bottom-color: var(--fill-color);\n",
              "    }\n",
              "  }\n",
              "</style>\n",
              "\n",
              "  <script>\n",
              "    async function quickchart(key) {\n",
              "      const quickchartButtonEl =\n",
              "        document.querySelector('#' + key + ' button');\n",
              "      quickchartButtonEl.disabled = true;  // To prevent multiple clicks.\n",
              "      quickchartButtonEl.classList.add('colab-df-spinner');\n",
              "      try {\n",
              "        const charts = await google.colab.kernel.invokeFunction(\n",
              "            'suggestCharts', [key], {});\n",
              "      } catch (error) {\n",
              "        console.error('Error during call to suggestCharts:', error);\n",
              "      }\n",
              "      quickchartButtonEl.classList.remove('colab-df-spinner');\n",
              "      quickchartButtonEl.classList.add('colab-df-quickchart-complete');\n",
              "    }\n",
              "    (() => {\n",
              "      let quickchartButtonEl =\n",
              "        document.querySelector('#df-f38bf192-f4e8-4ebb-8b25-0f496c6755f6 button');\n",
              "      quickchartButtonEl.style.display =\n",
              "        google.colab.kernel.accessAllowed ? 'block' : 'none';\n",
              "    })();\n",
              "  </script>\n",
              "</div>\n",
              "    </div>\n",
              "  </div>\n"
            ],
            "text/plain": [
              "                                              tweet_text cyberbullying_type\n",
              "47687  Black ppl aren't expected to do anything, depe...          ethnicity\n",
              "47688  Turner did not withhold his disappointment. Tu...          ethnicity\n",
              "47689  I swear to God. This dumb nigger bitch. I have...          ethnicity\n",
              "47690  Yea fuck you RT @therealexel: IF YOURE A NIGGE...          ethnicity\n",
              "47691  Bro. U gotta chill RT @CHILLShrammy: Dog FUCK ...          ethnicity"
            ]
          },
          "execution_count": 73,
          "metadata": {},
          "output_type": "execute_result"
        }
      ],
      "source": [
        "# Display the first few rows of the dataset\n",
        "print(\"First few rows of the dataset:\")\n",
        "print(df.head())\n",
        "df.tail()\n"
      ]
    },
    {
      "cell_type": "code",
      "execution_count": null,
      "metadata": {
        "colab": {
          "base_uri": "https://localhost:8080/"
        },
        "id": "hU-I9dZmkIMB",
        "outputId": "a103d3d2-071a-4159-d2d4-b50846967a89"
      },
      "outputs": [
        {
          "name": "stdout",
          "output_type": "stream",
          "text": [
            "Number of rows: 47692\n",
            "Number of columns: 2\n"
          ]
        }
      ],
      "source": [
        "# Print the number of rows and columns\n",
        "print(f\"Number of rows: {df.shape[0]}\")\n",
        "print(f\"Number of columns: {df.shape[1]}\")\n",
        "\n"
      ]
    },
    {
      "cell_type": "code",
      "execution_count": null,
      "metadata": {
        "colab": {
          "base_uri": "https://localhost:8080/"
        },
        "id": "IHCx1UEojn5t",
        "outputId": "046a0a50-35f2-435f-b610-6b3aad889fe8"
      },
      "outputs": [
        {
          "name": "stdout",
          "output_type": "stream",
          "text": [
            "\n",
            "Summary information about the dataset:\n",
            "<class 'pandas.core.frame.DataFrame'>\n",
            "RangeIndex: 47692 entries, 0 to 47691\n",
            "Data columns (total 2 columns):\n",
            " #   Column              Non-Null Count  Dtype \n",
            "---  ------              --------------  ----- \n",
            " 0   tweet_text          47692 non-null  object\n",
            " 1   cyberbullying_type  47692 non-null  object\n",
            "dtypes: object(2)\n",
            "memory usage: 745.3+ KB\n",
            "None\n"
          ]
        }
      ],
      "source": [
        "# Check for missing values, data types, and basic summary statistics\n",
        "print(\"\\nSummary information about the dataset:\")\n",
        "print(df.info())"
      ]
    },
    {
      "cell_type": "code",
      "execution_count": null,
      "metadata": {
        "colab": {
          "base_uri": "https://localhost:8080/"
        },
        "id": "UjjJ4gvDjvVz",
        "outputId": "6ab2f9c0-6dd2-4352-c6dc-0eb29bac42f8"
      },
      "outputs": [
        {
          "name": "stdout",
          "output_type": "stream",
          "text": [
            "\n",
            "Basic summary statistics for numerical columns:\n",
            "                                               tweet_text cyberbullying_type\n",
            "count                                               47692              47692\n",
            "unique                                              46017                  6\n",
            "top     RT @sailorhg: the intro for my hardware hackin...           religion\n",
            "freq                                                    2               7998\n"
          ]
        }
      ],
      "source": [
        "# Display basic summary statistics for numerical columns\n",
        "print(\"\\nBasic summary statistics for numerical columns:\")\n",
        "print(df.describe())"
      ]
    },
    {
      "cell_type": "code",
      "execution_count": null,
      "metadata": {
        "colab": {
          "base_uri": "https://localhost:8080/"
        },
        "id": "Lg9xqZ5n8cZP",
        "outputId": "0fbdc325-de0a-4caf-9463-e30530180f8f"
      },
      "outputs": [
        {
          "name": "stdout",
          "output_type": "stream",
          "text": [
            "Unique labels in 'cyberbullying_type' column:\n",
            "['not_cyberbullying' 'gender' 'religion' 'other_cyberbullying' 'age'\n",
            " 'ethnicity']\n"
          ]
        }
      ],
      "source": [
        "# Display unique values in the 'cyberbullying_type' column\n",
        "print(\"Unique labels in 'cyberbullying_type' column:\")\n",
        "print(df['cyberbullying_type'].unique())"
      ]
    },
    {
      "cell_type": "code",
      "execution_count": null,
      "metadata": {
        "colab": {
          "base_uri": "https://localhost:8080/"
        },
        "id": "43dk4WDI6pRK",
        "outputId": "a91baa4c-efdd-4197-9823-808c80de19e8"
      },
      "outputs": [
        {
          "name": "stdout",
          "output_type": "stream",
          "text": [
            "\n",
            "Class distribution:\n",
            "religion               7998\n",
            "age                    7992\n",
            "gender                 7973\n",
            "ethnicity              7961\n",
            "not_cyberbullying      7945\n",
            "other_cyberbullying    7823\n",
            "Name: cyberbullying_type, dtype: int64\n"
          ]
        }
      ],
      "source": [
        "# Check for class imbalance\n",
        "print(\"\\nClass distribution:\")\n",
        "print(df['cyberbullying_type'].value_counts())\n"
      ]
    },
    {
      "cell_type": "code",
      "execution_count": null,
      "metadata": {
        "colab": {
          "base_uri": "https://localhost:8080/",
          "height": 574
        },
        "id": "Fh_LI6wmUfIB",
        "outputId": "68c49088-10a4-49b4-ecac-c330c882f8ea"
      },
      "outputs": [
        {
          "data": {
            "image/png": "[encoded data removed]",
            "text/plain": [
              "<Figure size 800x600 with 1 Axes>"
            ]
          },
          "metadata": {},
          "output_type": "display_data"
        }
      ],
      "source": [
        "import seaborn as sns\n",
        "import matplotlib.pyplot as plt\n",
        "\n",
        "# Display the class distribution using a bar plot with counts\n",
        "plt.figure(figsize=(8, 6))\n",
        "ax = sns.countplot(x='cyberbullying_type', data=df)\n",
        "\n",
        "# Add counts on top of each bar\n",
        "for p in ax.patches:\n",
        "    ax.annotate(f'{p.get_height()}', (p.get_x() + p.get_width() / 2., p.get_height()),\n",
        "                ha='center', va='center', xytext=(0, 10), textcoords='offset points')\n",
        "\n",
        "plt.title('Class Distribution')\n",
        "plt.xlabel('Cyberbullying Type')\n",
        "plt.ylabel('Count')\n",
        "plt.show()\n"
      ]
    },
    {
      "cell_type": "markdown",
      "metadata": {
        "id": "014O40LDeDAV"
      },
      "source": [
        "Data Preprocessing"
      ]
    },
    {
      "cell_type": "code",
      "execution_count": null,
      "metadata": {
        "id": "OX9SBAP15OdO"
      },
      "outputs": [],
      "source": [
        "# Create a new dataframe for preprocessed data\n",
        "df_preprocessed = df.copy()"
      ]
    },
    {
      "cell_type": "code",
      "execution_count": null,
      "metadata": {
        "id": "ivV8ujUx5L5c"
      },
      "outputs": [],
      "source": [
        "\n",
        "# Define the text cleaning function\n",
        "def clean_text(text):\n",
        "    text = re.sub(r'http\\S+|www\\S+|@\\S+|#\\S+|[^A-Za-z\\s]', '', text)\n",
        "    return text\n"
      ]
    },
    {
      "cell_type": "code",
      "execution_count": null,
      "metadata": {
        "id": "ypbP-d3i5TDl"
      },
      "outputs": [],
      "source": [
        "# Apply text cleaning function to the tweet_text column\n",
        "df_preprocessed['cleaned_text'] = df_preprocessed['tweet_text'].apply(clean_text)\n"
      ]
    },
    {
      "cell_type": "code",
      "execution_count": null,
      "metadata": {
        "id": "S4CccBLA5W2S"
      },
      "outputs": [],
      "source": [
        "# Tokenization\n",
        "df_preprocessed['tokenized_text'] = df_preprocessed['cleaned_text'].apply(lambda x: x.split())\n"
      ]
    },
    {
      "cell_type": "code",
      "execution_count": null,
      "metadata": {
        "id": "5-JOACEj5aaL"
      },
      "outputs": [],
      "source": [
        "\n",
        "# Lowercasing\n",
        "df_preprocessed['tokenized_text'] = df_preprocessed['tokenized_text'].apply(lambda x: [word.lower() for word in x])\n"
      ]
    },
    {
      "cell_type": "code",
      "execution_count": null,
      "metadata": {
        "id": "mTdQzFcE5dUW"
      },
      "outputs": [],
      "source": [
        "# Stopword Removal\n",
        "stop_words = set(stopwords.words('english'))\n",
        "df_preprocessed['tokenized_text'] = df_preprocessed['tokenized_text'].apply(lambda x: [word for word in x if word not in stop_words])\n"
      ]
    },
    {
      "cell_type": "code",
      "execution_count": null,
      "metadata": {
        "id": "ETHnA9SN5ggM"
      },
      "outputs": [],
      "source": [
        "# Lemmatization\n",
        "lemmatizer = WordNetLemmatizer()\n",
        "df_preprocessed['tokenized_text'] = df_preprocessed['tokenized_text'].apply(lambda x: [lemmatizer.lemmatize(word) for word in x])\n"
      ]
    },
    {
      "cell_type": "code",
      "execution_count": null,
      "metadata": {
        "id": "Yj7-igUW93c0"
      },
      "outputs": [],
      "source": [
        "# Map the sub-labels to binary labels\n",
        "label_mapping = {\n",
        "    'not_cyberbullying': 0,\n",
        "    'other_cyberbullying': 1,\n",
        "    'age': 1,  # Assuming 'age' is a type of cyberbullying\n",
        "    'gender': 1,  # Assuming 'gender' is a type of cyberbullying\n",
        "    'ethnicity': 1,  # Assuming 'ethnicity' is a type of cyberbullying\n",
        "    'religion': 1  # Assuming 'religion' is a type of cyberbullying\n",
        "}\n"
      ]
    },
    {
      "cell_type": "code",
      "execution_count": null,
      "metadata": {
        "id": "lHoTTaqt99Qy"
      },
      "outputs": [],
      "source": [
        "\n",
        "# Apply label mapping to create a new binary label\n",
        "df_preprocessed['binary_label'] = df_preprocessed['cyberbullying_type'].apply(lambda x: 1 if x != 'not_cyberbullying' else 0)"
      ]
    },
    {
      "cell_type": "code",
      "execution_count": null,
      "metadata": {
        "id": "YYiV-pOL9_VC"
      },
      "outputs": [],
      "source": [
        "# Create a new column to store the original cyberbullying category\n",
        "df_preprocessed['original_category'] = df_preprocessed['cyberbullying_type']"
      ]
    },
    {
      "cell_type": "code",
      "execution_count": null,
      "metadata": {
        "colab": {
          "base_uri": "https://localhost:8080/"
        },
        "id": "_QtIxSEC-Hqi",
        "outputId": "364360a6-bbac-4c24-d7d1-25ceda85f64f"
      },
      "outputs": [
        {
          "name": "stdout",
          "output_type": "stream",
          "text": [
            "\n",
            "Unique values in the 'binary_label' column:\n",
            "[0 1]\n"
          ]
        }
      ],
      "source": [
        "# Display the unique values in the 'binary_label' column\n",
        "print(\"\\nUnique values in the 'binary_label' column:\")\n",
        "print(df_preprocessed['binary_label'].unique())"
      ]
    },
    {
      "cell_type": "code",
      "execution_count": null,
      "metadata": {
        "colab": {
          "base_uri": "https://localhost:8080/"
        },
        "id": "gI7IuXcF-KGz",
        "outputId": "83417da6-09a2-485f-8b5d-f4454715ef46"
      },
      "outputs": [
        {
          "name": "stdout",
          "output_type": "stream",
          "text": [
            "\n",
            "Class distribution in 'binary_label':\n",
            "1    39747\n",
            "0     7945\n",
            "Name: binary_label, dtype: int64\n"
          ]
        }
      ],
      "source": [
        "# Check the class distribution in the new binary label\n",
        "print(\"\\nClass distribution in 'binary_label':\")\n",
        "print(df_preprocessed['binary_label'].value_counts())"
      ]
    },
    {
      "cell_type": "code",
      "execution_count": null,
      "metadata": {
        "colab": {
          "base_uri": "https://localhost:8080/"
        },
        "id": "osOsO1rX-Vxb",
        "outputId": "c487db92-fb28-418d-fc37-91f4021686b0"
      },
      "outputs": [
        {
          "name": "stdout",
          "output_type": "stream",
          "text": [
            "\n",
            "First few rows of the updated DataFrame:\n",
            "                                          tweet_text  original_category  \\\n",
            "0  In other words #katandandre, your food was cra...  not_cyberbullying   \n",
            "1  Why is #aussietv so white? #MKR #theblock #ImA...  not_cyberbullying   \n",
            "2  @XochitlSuckkks a classy whore? Or more red ve...  not_cyberbullying   \n",
            "3  @Jason_Gio meh. :P  thanks for the heads up, b...  not_cyberbullying   \n",
            "4  @RudhoeEnglish This is an ISIS account pretend...  not_cyberbullying   \n",
            "\n",
            "   binary_label  \n",
            "0             0  \n",
            "1             0  \n",
            "2             0  \n",
            "3             0  \n",
            "4             0  \n"
          ]
        }
      ],
      "source": [
        "# Display the first few rows of the updated DataFrame\n",
        "print(\"\\nFirst few rows of the updated DataFrame:\")\n",
        "print(df_preprocessed[['tweet_text', 'original_category', 'binary_label']].head())"
      ]
    },
    {
      "cell_type": "code",
      "execution_count": null,
      "metadata": {
        "colab": {
          "base_uri": "https://localhost:8080/"
        },
        "id": "J9ZMupalD7yu",
        "outputId": "cf4f5d6b-73a0-4827-d74c-6c08326101d7"
      },
      "outputs": [
        {
          "name": "stdout",
          "output_type": "stream",
          "text": [
            "\n",
            "Class distribution after oversampling:\n",
            "1    39747\n",
            "0    39747\n",
            "Name: binary_label, dtype: int64\n"
          ]
        }
      ],
      "source": [
        "from sklearn.utils import resample\n",
        "\n",
        "# Separate the majority and minority classes\n",
        "df_majority = df_preprocessed[df_preprocessed['binary_label'] == 1]\n",
        "df_minority = df_preprocessed[df_preprocessed['binary_label'] == 0]\n",
        "\n",
        "# Oversample each minority class separately\n",
        "df_minority_upsampled = pd.DataFrame()\n",
        "\n",
        "for category in df_preprocessed['original_category'].unique():\n",
        "    # Select the minority class for the current category\n",
        "    df_category_minority = df_minority[df_minority['original_category'] == category]\n",
        "\n",
        "    # Check if there are instances in the minority class for the current category\n",
        "    if not df_category_minority.empty:\n",
        "        # Upsample the current minority class\n",
        "        df_category_minority_upsampled = resample(\n",
        "            df_category_minority,\n",
        "            replace=True,  # Sample with replacement\n",
        "            n_samples=len(df_majority),  # Match the number of majority class samples\n",
        "            random_state=42\n",
        "        )\n",
        "\n",
        "        # Append the upsampled minority class to the overall upsampled DataFrame\n",
        "        df_minority_upsampled = pd.concat([df_minority_upsampled, df_category_minority_upsampled])\n",
        "\n",
        "# Concatenate the majority class DataFrame with the upsampled minority class DataFrame\n",
        "df_upsampled = pd.concat([df_majority, df_minority_upsampled])\n",
        "\n",
        "# Display the class distribution after oversampling\n",
        "print(\"\\nClass distribution after oversampling:\")\n",
        "print(df_upsampled['binary_label'].value_counts())\n"
      ]
    },
    {
      "cell_type": "code",
      "execution_count": null,
      "metadata": {
        "colab": {
          "base_uri": "https://localhost:8080/",
          "height": 573
        },
        "id": "Gj7nQsOsFZ3z",
        "outputId": "4cd5fa9a-5bc8-4fff-862c-6d42449023a0"
      },
      "outputs": [
        {
          "data": {
            "image/png": "[encoded data removed]",
            "text/plain": [
              "<Figure size 800x600 with 1 Axes>"
            ]
          },
          "metadata": {},
          "output_type": "display_data"
        }
      ],
      "source": [
        "# Plot the distribution of 'cyberbullying' and 'not_cyberbullying'\n",
        "plt.figure(figsize=(8, 6))\n",
        "sns.countplot(x='binary_label', data=df_upsampled, palette='viridis')\n",
        "plt.title('Distribution of Cyberbullying and Not Cyberbullying After Oversampling')\n",
        "plt.xlabel('Binary Label')\n",
        "plt.ylabel('Count')\n",
        "plt.xticks(ticks=[0, 1], labels=['Not Cyberbullying', 'Cyberbullying'])\n",
        "plt.show()\n"
      ]
    },
    {
      "cell_type": "code",
      "execution_count": null,
      "metadata": {
        "colab": {
          "base_uri": "https://localhost:8080/",
          "height": 677
        },
        "id": "S0MBrODhE_7_",
        "outputId": "59708a7c-27d1-4ec1-9b2a-a8589600c70d"
      },
      "outputs": [
        {
          "data": {
            "image/png": "[encoded data removed]",
            "text/plain": [
              "<Figure size 1200x600 with 1 Axes>"
            ]
          },
          "metadata": {},
          "output_type": "display_data"
        }
      ],
      "source": [
        "import matplotlib.pyplot as plt\n",
        "import seaborn as sns\n",
        "\n",
        "# Set the style for better visualization\n",
        "sns.set(style=\"whitegrid\")\n",
        "\n",
        "# Plot the distribution of each category\n",
        "plt.figure(figsize=(12, 6))\n",
        "sns.countplot(x='original_category', data=df_upsampled, order=df_upsampled['original_category'].value_counts().index, palette='viridis')\n",
        "plt.title('Distribution of Categories under Cyberbullying After Oversampling')\n",
        "plt.xlabel('Cyberbullying Category')\n",
        "plt.ylabel('Count')\n",
        "plt.xticks(rotation=45, ha='right')\n",
        "plt.show()\n"
      ]
    },
    {
      "cell_type": "code",
      "execution_count": null,
      "metadata": {
        "colab": {
          "base_uri": "https://localhost:8080/"
        },
        "id": "Ty8l4O9pG27y",
        "outputId": "0f7b67e7-e9a0-499d-d42a-fb6957b26ceb"
      },
      "outputs": [
        {
          "name": "stdout",
          "output_type": "stream",
          "text": [
            "Training set shape: (63595,) (63595,)\n",
            "Testing set shape: (15899,) (15899,)\n"
          ]
        }
      ],
      "source": [
        "from sklearn.model_selection import train_test_split\n",
        "\n",
        "# Split the data into features (X) and labels (y)\n",
        "X = df_upsampled['cleaned_text']\n",
        "y = df_upsampled['binary_label']\n",
        "\n",
        "# Split the data into training and testing sets (e.g., 80% training, 20% testing)\n",
        "X_train, X_test, y_train, y_test = train_test_split(X, y, test_size=0.2, random_state=42)\n",
        "\n",
        "# Display the shapes of the resulting sets\n",
        "print(\"Training set shape:\", X_train.shape, y_train.shape)\n",
        "print(\"Testing set shape:\", X_test.shape, y_test.shape)\n"
      ]
    },
    {
      "cell_type": "code",
      "execution_count": null,
      "metadata": {
        "colab": {
          "base_uri": "https://localhost:8080/"
        },
        "id": "10dfGdXtHiX3",
        "outputId": "9cd9051b-9cf2-47fc-8d49-2eeabe3c12ad"
      },
      "outputs": [
        {
          "name": "stdout",
          "output_type": "stream",
          "text": [
            "Missing values in training set:\n",
            "0\n",
            "\n",
            "Missing values in testing set:\n",
            "0\n"
          ]
        }
      ],
      "source": [
        "# Check for missing values in the training set\n",
        "missing_values_train = X_train.isnull().sum()\n",
        "print(\"Missing values in training set:\")\n",
        "print(missing_values_train)\n",
        "\n",
        "# Check for missing values in the testing set\n",
        "missing_values_test = X_test.isnull().sum()\n",
        "print(\"\\nMissing values in testing set:\")\n",
        "print(missing_values_test)\n"
      ]
    },
    {
      "cell_type": "markdown",
      "metadata": {
        "id": "dZo-QHiJLQY3"
      },
      "source": [
        "\n",
        "\n",
        ">\n",
        "\n"
      ]
    },
    {
      "cell_type": "markdown",
      "metadata": {
        "id": "g4UNRsguHpEA"
      },
      "source": [
        "Feature Engineering and Model Training"
      ]
    },
    {
      "cell_type": "markdown",
      "metadata": {
        "id": "ae9bevoKxdMp"
      },
      "source": [
        "\n",
        "\n",
        ">\n",
        "\n",
        ">\n",
        "\n",
        ">\n",
        "\n",
        ">\n",
        "\n",
        ">\n",
        "\n",
        ">\n",
        "\n",
        ">\n",
        "\n",
        "\n",
        "\n",
        "\n",
        ">\n",
        "\n",
        "\n",
        "\n",
        "\n",
        "\n",
        ">\n",
        "\n",
        "\n",
        "\n",
        "\n",
        "\n",
        "\n",
        ">\n",
        "\n",
        "\n",
        "\n",
        "\n",
        "\n",
        "\n",
        "\n",
        ">\n",
        "\n",
        "\n",
        "\n",
        "\n",
        "\n",
        "\n",
        "\n",
        "\n",
        "\n",
        "\n",
        "\n",
        "\n",
        "\n",
        "\n",
        ">\n",
        "\n",
        "\n",
        "\n",
        "\n",
        "\n"
      ]
    },
    {
      "cell_type": "code",
      "execution_count": null,
      "metadata": {
        "id": "oTgKI-tDz58S"
      },
      "outputs": [],
      "source": [
        "\n",
        "# Initialize the TfidfVectorizer\n",
        "tfidf_vectorizer = TfidfVectorizer(max_features=5000)\n",
        "\n",
        "# Fit and transform the training data\n",
        "X_train_tfidf = tfidf_vectorizer.fit_transform(X_train)\n",
        "\n",
        "# Transform the test data using the same vectorizer\n",
        "X_test_tfidf = tfidf_vectorizer.transform(X_test)\n"
      ]
    },
    {
      "cell_type": "code",
      "execution_count": null,
      "metadata": {
        "colab": {
          "base_uri": "https://localhost:8080/"
        },
        "id": "gy0SzuVLL_JI",
        "outputId": "c473705b-ab90-4906-c43c-46bf4c4f899f"
      },
      "outputs": [
        {
          "name": "stdout",
          "output_type": "stream",
          "text": [
            "Accuracy: 0.93\n",
            "\n",
            "Classification Report:\n",
            "              precision    recall  f1-score   support\n",
            "\n",
            "           0       0.88      0.99      0.93      7936\n",
            "           1       0.98      0.87      0.92      7963\n",
            "\n",
            "    accuracy                           0.93     15899\n",
            "   macro avg       0.93      0.93      0.93     15899\n",
            "weighted avg       0.93      0.93      0.93     15899\n",
            "\n",
            "\n",
            "Confusion Matrix:\n",
            "[[7823  113]\n",
            " [1059 6904]]\n"
          ]
        },
        {
          "data": {
            "text/plain": [
              "['/content/drive/My Drive/tfidf_vectorizer.joblib']"
            ]
          },
          "execution_count": 99,
          "metadata": {},
          "output_type": "execute_result"
        }
      ],
      "source": [
        "import joblib\n",
        "from sklearn.feature_extraction.text import TfidfVectorizer\n",
        "from sklearn.ensemble import RandomForestClassifier\n",
        "\n",
        "# Load your data and preprocess it here...\n",
        "\n",
        "# Fit and transform the training data\n",
        "tfidf_vectorizer = TfidfVectorizer(max_features=5000)\n",
        "X_train_tfidf = tfidf_vectorizer.fit_transform(X_train)\n",
        "\n",
        "# Initialize the Random Forest Classifier\n",
        "rf_classifier = RandomForestClassifier(n_estimators=100, random_state=42)\n",
        "\n",
        "# Train the model on the training data\n",
        "rf_classifier.fit(X_train_tfidf, y_train)\n",
        "\n",
        "# Make predictions on the test data\n",
        "y_pred = rf_classifier.predict(X_test_tfidf)\n",
        "\n",
        "# Evaluate the model\n",
        "accuracy = accuracy_score(y_test, y_pred)\n",
        "print(f\"Accuracy: {accuracy:.2f}\")\n",
        "\n",
        "# Display additional evaluation metrics\n",
        "print(\"\\nClassification Report:\")\n",
        "print(classification_report(y_test, y_pred))\n",
        "\n",
        "# Confusion Matrix\n",
        "conf_matrix = confusion_matrix(y_test, y_pred)\n",
        "print(\"\\nConfusion Matrix:\")\n",
        "print(conf_matrix)\n",
        "\n",
        "# Save the model to a file\n",
        "joblib.dump(rf_classifier, '/content/drive/My Drive/random_forest_model.joblib', protocol=4)\n",
        "joblib.dump(tfidf_vectorizer, '/content/drive/My Drive/tfidf_vectorizer.joblib', protocol=4)\n",
        "\n"
      ]
    },
    {
      "cell_type": "code",
      "execution_count": null,
      "metadata": {
        "colab": {
          "base_uri": "https://localhost:8080/"
        },
        "id": "tDK4yG2g9PCt",
        "outputId": "fde80ae9-c6f4-452f-e47e-56cff1c1310c"
      },
      "outputs": [
        {
          "name": "stdout",
          "output_type": "stream",
          "text": [
            "Name: scikit-learn\n",
            "Version: 1.2.2\n",
            "Summary: A set of python modules for machine learning and data mining\n",
            "Home-page: http://scikit-learn.org\n",
            "Author: \n",
            "Author-email: \n",
            "License: new BSD\n",
            "Location: /usr/local/lib/python3.10/dist-packages\n",
            "Requires: joblib, numpy, scipy, threadpoolctl\n",
            "Required-by: bigframes, fastai, imbalanced-learn, librosa, mlxtend, qudida, sklearn-pandas, yellowbrick\n",
            "Name: joblib\n",
            "Version: 1.3.2\n",
            "Summary: Lightweight pipelining with Python functions\n",
            "Home-page: \n",
            "Author: \n",
            "Author-email: Gael Varoquaux <gael.varoquaux@normalesup.org>\n",
            "License: BSD 3-Clause\n",
            "Location: /usr/local/lib/python3.10/dist-packages\n",
            "Requires: \n",
            "Required-by: imbalanced-learn, librosa, mlxtend, music21, nltk, scikit-learn\n"
          ]
        }
      ],
      "source": [
        "!pip show scikit-learn\n",
        "!pip show joblib"
      ]
    },
    {
      "cell_type": "markdown",
      "metadata": {
        "id": "e9lIP1Msa6Oc"
      },
      "source": [
        "LSTM"
      ]
    },
    {
      "cell_type": "code",
      "execution_count": null,
      "metadata": {
        "colab": {
          "background_save": true,
          "base_uri": "https://localhost:8080/"
        },
        "id": "h8YoEK6na8Ua",
        "outputId": "eb9c51d8-4ff9-4eb9-bb36-4e2417b60d2a"
      },
      "outputs": [
        {
          "name": "stdout",
          "output_type": "stream",
          "text": [
            "Epoch 1/5\n",
            "795/795 [==============================] - 898s 1s/step - loss: 0.3393 - accuracy: 0.8496 - val_loss: 0.2860 - val_accuracy: 0.8770\n",
            "Epoch 2/5\n",
            "795/795 [==============================] - 846s 1s/step - loss: 0.2132 - accuracy: 0.9106 - val_loss: 0.2580 - val_accuracy: 0.8923\n",
            "Epoch 3/5\n",
            "795/795 [==============================] - 843s 1s/step - loss: 0.1570 - accuracy: 0.9359 - val_loss: 0.2779 - val_accuracy: 0.8971\n",
            "Epoch 4/5\n",
            "795/795 [==============================] - 845s 1s/step - loss: 0.1273 - accuracy: 0.9486 - val_loss: 0.2723 - val_accuracy: 0.9022\n",
            "Epoch 5/5\n",
            "795/795 [==============================] - 835s 1s/step - loss: 0.1098 - accuracy: 0.9555 - val_loss: 0.2899 - val_accuracy: 0.9042\n",
            "497/497 [==============================] - 52s 104ms/step\n"
          ]
        }
      ],
      "source": [
        "import tensorflow as tf\n",
        "from tensorflow.keras.models import Sequential\n",
        "from tensorflow.keras.layers import Embedding, LSTM, Dense\n",
        "from tensorflow.keras.preprocessing.text import Tokenizer\n",
        "from tensorflow.keras.preprocessing.sequence import pad_sequences\n",
        "from sklearn.metrics import classification_report, accuracy_score\n",
        "\n",
        "# Tokenize the text\n",
        "tokenizer = Tokenizer()\n",
        "tokenizer.fit_on_texts(X_train)\n",
        "\n",
        "# Convert text to sequences\n",
        "X_train_seq = tokenizer.texts_to_sequences(X_train)\n",
        "X_test_seq = tokenizer.texts_to_sequences(X_test)\n",
        "\n",
        "# Pad sequences to have the same length\n",
        "X_train_padded = pad_sequences(X_train_seq)\n",
        "X_test_padded = pad_sequences(X_test_seq, maxlen=X_train_padded.shape[1])\n",
        "\n",
        "# Create the LSTM model\n",
        "LSTM_model = Sequential()\n",
        "LSTM_model.add(Embedding(input_dim=len(tokenizer.word_index) + 1, output_dim=128, input_length=X_train_padded.shape[1]))\n",
        "LSTM_model.add(LSTM(64))\n",
        "LSTM_model.add(Dense(1, activation='sigmoid'))\n",
        "\n",
        "# Compile the model\n",
        "LSTM_model.compile(optimizer='adam', loss='binary_crossentropy', metrics=['accuracy'])\n",
        "\n",
        "# Train the model\n",
        "LSTM_model.fit(X_train_padded, y_train, epochs=5, batch_size=64, validation_split=0.2)\n",
        "\n",
        "# Evaluate the model\n",
        "y_pred = (LSTM_model.predict(X_test_padded) > 0.5).astype(int)\n",
        "accuracy = accuracy_score(y_test, y_pred)\n"
      ]
    },
    {
      "cell_type": "code",
      "execution_count": null,
      "metadata": {
        "colab": {
          "background_save": true
        },
        "id": "dUmYp19_4U9N",
        "outputId": "85e8ad50-789c-4101-c7f0-e7348450ae23"
      },
      "outputs": [
        {
          "name": "stdout",
          "output_type": "stream",
          "text": [
            "Accuracy: 0.9110006918674131\n",
            "\n",
            "Confusion Matrix:\n",
            "[[7717  219]\n",
            " [1196 6767]]\n",
            "\n",
            "Classification Report:\n",
            "              precision    recall  f1-score   support\n",
            "\n",
            "           0       0.87      0.97      0.92      7936\n",
            "           1       0.97      0.85      0.91      7963\n",
            "\n",
            "    accuracy                           0.91     15899\n",
            "   macro avg       0.92      0.91      0.91     15899\n",
            "weighted avg       0.92      0.91      0.91     15899\n",
            "\n"
          ]
        }
      ],
      "source": [
        "conf_matrix = confusion_matrix(y_test, y_pred)\n",
        "classification_rep = classification_report(y_test, y_pred)\n",
        "\n",
        "# Display the results\n",
        "print(f\"Accuracy: {accuracy}\")\n",
        "print(\"\\nConfusion Matrix:\")\n",
        "print(conf_matrix)\n",
        "print(\"\\nClassification Report:\")\n",
        "print(classification_rep)\n"
      ]
    },
    {
      "cell_type": "markdown",
      "metadata": {
        "id": "TL3hNwtfKCM4"
      },
      "source": [
        "Logistic Regression"
      ]
    },
    {
      "cell_type": "code",
      "execution_count": null,
      "metadata": {
        "colab": {
          "background_save": true
        },
        "id": "TnrSB85jKEtv",
        "outputId": "e397c399-96e0-43df-be18-e39bae181d64"
      },
      "outputs": [
        {
          "name": "stdout",
          "output_type": "stream",
          "text": [
            "Accuracy: 0.8599282973771936\n",
            "\n",
            "Confusion Matrix:\n",
            "[[7272  664]\n",
            " [1563 6400]]\n",
            "\n",
            "Classification Report:\n",
            "              precision    recall  f1-score   support\n",
            "\n",
            "           0       0.82      0.92      0.87      7936\n",
            "           1       0.91      0.80      0.85      7963\n",
            "\n",
            "    accuracy                           0.86     15899\n",
            "   macro avg       0.86      0.86      0.86     15899\n",
            "weighted avg       0.86      0.86      0.86     15899\n",
            "\n"
          ]
        },
        {
          "name": "stderr",
          "output_type": "stream",
          "text": [
            "/usr/local/lib/python3.10/dist-packages/sklearn/linear_model/_logistic.py:458: ConvergenceWarning: lbfgs failed to converge (status=1):\n",
            "STOP: TOTAL NO. of ITERATIONS REACHED LIMIT.\n",
            "\n",
            "Increase the number of iterations (max_iter) or scale the data as shown in:\n",
            "    https://scikit-learn.org/stable/modules/preprocessing.html\n",
            "Please also refer to the documentation for alternative solver options:\n",
            "    https://scikit-learn.org/stable/modules/linear_model.html#logistic-regression\n",
            "  n_iter_i = _check_optimize_result(\n"
          ]
        }
      ],
      "source": [
        "\n",
        "# Initialize the TF-IDF vectorizer\n",
        "tfidf_vectorizer = TfidfVectorizer(max_features=5000)  # You can adjust the number of features\n",
        "\n",
        "# Fit and transform the training data\n",
        "X_train_tfidf = tfidf_vectorizer.fit_transform(X_train)\n",
        "\n",
        "# Transform the testing data\n",
        "X_test_tfidf = tfidf_vectorizer.transform(X_test)\n",
        "\n",
        "\n",
        "# Initialize the logistic regression model\n",
        "logreg_model = LogisticRegression()\n",
        "\n",
        "# Train the model\n",
        "logreg_model.fit(X_train_tfidf, y_train)\n",
        "\n",
        "# Predictions on the testing set\n",
        "y_pred = logreg_model.predict(X_test_tfidf)\n",
        "\n",
        "# Evaluate the model\n",
        "accuracy = accuracy_score(y_test, y_pred)\n",
        "conf_matrix = confusion_matrix(y_test, y_pred)\n",
        "classification_rep = classification_report(y_test, y_pred)\n",
        "\n",
        "# Display the results\n",
        "print(f\"Accuracy: {accuracy}\")\n",
        "print(\"\\nConfusion Matrix:\")\n",
        "print(conf_matrix)\n",
        "print(\"\\nClassification Report:\")\n",
        "print(classification_rep)\n"
      ]
    },
    {
      "cell_type": "markdown",
      "metadata": {
        "id": "HOBTv498I7Ud"
      },
      "source": [
        "Naive Bayes Classifier"
      ]
    },
    {
      "cell_type": "code",
      "execution_count": null,
      "metadata": {
        "colab": {
          "background_save": true
        },
        "id": "PJ8q-A6zJC-1",
        "outputId": "f39111a8-3a36-42bc-a3a3-58bc69d149c4"
      },
      "outputs": [
        {
          "name": "stdout",
          "output_type": "stream",
          "text": [
            "Accuracy: 0.8143\n",
            "\n",
            "Confusion Matrix:\n",
            "[[6169 1767]\n",
            " [1186 6777]]\n",
            "\n",
            "Classification Report:\n",
            "              precision    recall  f1-score   support\n",
            "\n",
            "           0       0.84      0.78      0.81      7936\n",
            "           1       0.79      0.85      0.82      7963\n",
            "\n",
            "    accuracy                           0.81     15899\n",
            "   macro avg       0.82      0.81      0.81     15899\n",
            "weighted avg       0.82      0.81      0.81     15899\n",
            "\n"
          ]
        }
      ],
      "source": [
        "\n",
        "# Create a TF-IDF vectorizer\n",
        "tfidf_vectorizer = TfidfVectorizer(max_features=5000)  # Adjust max_features as needed\n",
        "\n",
        "# Fit and transform the training data\n",
        "X_train_tfidf = tfidf_vectorizer.fit_transform(X_train)\n",
        "\n",
        "# Transform the testing data\n",
        "X_test_tfidf = tfidf_vectorizer.transform(X_test)\n",
        "\n",
        "# Initialize the Naive Bayes classifier\n",
        "naive_bayes_classifier = MultinomialNB()\n",
        "\n",
        "# Train the classifier\n",
        "naive_bayes_classifier.fit(X_train_tfidf, y_train)\n",
        "\n",
        "# Predictions on the testing set\n",
        "y_pred = naive_bayes_classifier.predict(X_test_tfidf)\n",
        "\n",
        "# Evaluate the model\n",
        "accuracy = accuracy_score(y_test, y_pred)\n",
        "conf_matrix = confusion_matrix(y_test, y_pred)\n",
        "classification_rep = classification_report(y_test, y_pred)\n",
        "\n",
        "# Display results\n",
        "print(f\"Accuracy: {accuracy:.4f}\")\n",
        "print(\"\\nConfusion Matrix:\")\n",
        "print(conf_matrix)\n",
        "print(\"\\nClassification Report:\")\n",
        "print(classification_rep)\n"
      ]
    },
    {
      "cell_type": "markdown",
      "metadata": {
        "id": "iWXwzwmSJc2P"
      },
      "source": [
        "\n",
        "\n",
        ">\n",
        "\n"
      ]
    },
    {
      "cell_type": "markdown",
      "metadata": {
        "id": "MAichCUoH1au"
      },
      "source": [
        "Stochastic Gradient Classifier"
      ]
    },
    {
      "cell_type": "code",
      "execution_count": null,
      "metadata": {
        "colab": {
          "background_save": true
        },
        "id": "8l9kJR8OH5iy"
      },
      "outputs": [],
      "source": [
        "\n",
        "# Initialize the TF-IDF vectorizer\n",
        "tfidf_vectorizer = TfidfVectorizer(max_features=5000, ngram_range=(1, 2))\n",
        "\n",
        "# Fit and transform the training data\n",
        "X_train_tfidf = tfidf_vectorizer.fit_transform(X_train)\n",
        "\n",
        "# Transform the test data\n",
        "X_test_tfidf = tfidf_vectorizer.transform(X_test)\n"
      ]
    },
    {
      "cell_type": "code",
      "execution_count": null,
      "metadata": {
        "colab": {
          "background_save": true
        },
        "id": "wQzbdzWKH9bN",
        "outputId": "953c529f-0b61-46c4-d5d3-d75e2844e6f6"
      },
      "outputs": [
        {
          "name": "stdout",
          "output_type": "stream",
          "text": [
            "Accuracy: 0.8587332536637524\n",
            "\n",
            "Confusion Matrix:\n",
            "[[7564  372]\n",
            " [1874 6089]]\n",
            "\n",
            "Classification Report:\n",
            "              precision    recall  f1-score   support\n",
            "\n",
            "           0       0.80      0.95      0.87      7936\n",
            "           1       0.94      0.76      0.84      7963\n",
            "\n",
            "    accuracy                           0.86     15899\n",
            "   macro avg       0.87      0.86      0.86     15899\n",
            "weighted avg       0.87      0.86      0.86     15899\n",
            "\n"
          ]
        }
      ],
      "source": [
        "\n",
        "# Initialize the Stochastic Gradient Classifier\n",
        "sgd_classifier = SGDClassifier(random_state=42)\n",
        "\n",
        "# Train the model\n",
        "sgd_classifier.fit(X_train_tfidf, y_train)\n",
        "\n",
        "# Make predictions on the test set\n",
        "y_pred = sgd_classifier.predict(X_test_tfidf)\n",
        "\n",
        "# Evaluate the model\n",
        "accuracy = accuracy_score(y_test, y_pred)\n",
        "conf_matrix = confusion_matrix(y_test, y_pred)\n",
        "class_report = classification_report(y_test, y_pred)\n",
        "\n",
        "# Display the results\n",
        "print(f\"Accuracy: {accuracy}\")\n",
        "print(\"\\nConfusion Matrix:\")\n",
        "print(conf_matrix)\n",
        "print(\"\\nClassification Report:\")\n",
        "print(class_report)\n"
      ]
    },
    {
      "cell_type": "markdown",
      "metadata": {
        "id": "dpdBTFbcI2t3"
      },
      "source": [
        "\n",
        "\n",
        ">\n",
        "\n"
      ]
    },
    {
      "cell_type": "markdown",
      "metadata": {
        "id": "0iQpYDZecVbh"
      },
      "source": [
        "SVM"
      ]
    },
    {
      "cell_type": "code",
      "execution_count": null,
      "metadata": {
        "colab": {
          "background_save": true
        },
        "id": "B06QhH1fcXW3",
        "outputId": "46748f64-62e6-4eaa-d498-1bc9fad7be65"
      },
      "outputs": [
        {
          "name": "stdout",
          "output_type": "stream",
          "text": [
            "Accuracy: 93.14%\n",
            "\n",
            "Classification Report:\n",
            "              precision    recall  f1-score   support\n",
            "\n",
            "           0       0.89      0.98      0.93      7936\n",
            "           1       0.98      0.88      0.93      7963\n",
            "\n",
            "    accuracy                           0.93     15899\n",
            "   macro avg       0.94      0.93      0.93     15899\n",
            "weighted avg       0.94      0.93      0.93     15899\n",
            "\n"
          ]
        }
      ],
      "source": [
        "\n",
        "# Create an SVM pipeline with a TF-IDF vectorizer\n",
        "model = make_pipeline(TfidfVectorizer(), SVC())\n",
        "\n",
        "# Train the model on the training data\n",
        "model.fit(X_train, y_train)\n",
        "\n",
        "# Make predictions on the test data\n",
        "y_pred = model.predict(X_test)\n",
        "\n",
        "# Evaluate the model\n",
        "accuracy = accuracy_score(y_test, y_pred)\n",
        "print(f\"Accuracy: {accuracy:.2%}\")\n",
        "\n",
        "# Display classification report\n",
        "print(\"\\nClassification Report:\")\n",
        "print(classification_report(y_test, y_pred))\n"
      ]
    },
    {
      "cell_type": "markdown",
      "metadata": {
        "id": "vSzv1MCMcZhH"
      },
      "source": [
        "\n",
        "\n",
        ">\n",
        "\n"
      ]
    },
    {
      "cell_type": "markdown",
      "metadata": {
        "id": "upiM7mZHz23h"
      },
      "source": [
        "Using Ensemble Learning"
      ]
    },
    {
      "cell_type": "markdown",
      "metadata": {
        "id": "V5mlUYhl3rwG"
      },
      "source": [
        "\n",
        "\n",
        ">\n",
        "\n"
      ]
    },
    {
      "cell_type": "markdown",
      "metadata": {
        "id": "x_K9zxg4TxYT"
      },
      "source": [
        "Using Pretrained Model BERT Methods"
      ]
    },
    {
      "cell_type": "code",
      "execution_count": null,
      "metadata": {
        "colab": {
          "background_save": true
        },
        "id": "8DxD_ChFT5sU",
        "outputId": "38136a47-4125-4ccf-d44c-02225c413863"
      },
      "outputs": [
        {
          "name": "stdout",
          "output_type": "stream",
          "text": [
            "                                           cleaned_text  text_length  \\\n",
            "7945  rape is realzvasiyana nema jokes about being d...          152   \n",
            "7946  You never saw any celebrity say anything like ...          129   \n",
            "7947   I mean hes gay but he uses gendered slurs and...           63   \n",
            "7948                                   RT      feminazi           16   \n",
            "7949  Rape is rape And the fact that I read one post...          266   \n",
            "\n",
            "      num_words  num_special_characters  \n",
            "7945         12                     127  \n",
            "7946         19                     106  \n",
            "7947          9                      50  \n",
            "7948          2                      10  \n",
            "7949         27                     209  \n"
          ]
        }
      ],
      "source": [
        "# Feature Engineering\n",
        "df_upsampled['text_length'] = df_upsampled['cleaned_text'].apply(len)\n",
        "df_upsampled['num_words'] = df_upsampled['tokenized_text'].apply(len)\n",
        "df_upsampled['num_special_characters'] = df_upsampled['cleaned_text'].apply(lambda x: sum(1 for char in x if char.isalnum()))\n",
        "\n",
        "# Display the updated DataFrame\n",
        "print(df_upsampled[['cleaned_text', 'text_length', 'num_words', 'num_special_characters']].head())\n"
      ]
    },
    {
      "cell_type": "code",
      "execution_count": null,
      "metadata": {
        "colab": {
          "background_save": true,
          "referenced_widgets": [
            "5bbb5562de684c1983bee2179828e6cb",
            "25a496f61a75415290d5e03149f57242",
            "bdcf6b2db3d84b8fb6ee10644e04cbb5",
            "d6f9d6f5f42a40b5aa1940f824f74767",
            "753d4f6bea4749a890624b3e9b0b260a"
          ]
        },
        "id": "eaT1ymhoXugN",
        "outputId": "d5d88517-ecec-442b-acd6-b6cc14ea2452"
      },
      "outputs": [
        {
          "data": {
            "application/vnd.jupyter.widget-view+json": {
              "model_id": "5bbb5562de684c1983bee2179828e6cb",
              "version_major": 2,
              "version_minor": 0
            },
            "text/plain": [
              "tokenizer_config.json:   0%|          | 0.00/28.0 [00:00<?, ?B/s]"
            ]
          },
          "metadata": {},
          "output_type": "display_data"
        },
        {
          "data": {
            "application/vnd.jupyter.widget-view+json": {
              "model_id": "25a496f61a75415290d5e03149f57242",
              "version_major": 2,
              "version_minor": 0
            },
            "text/plain": [
              "vocab.txt:   0%|          | 0.00/232k [00:00<?, ?B/s]"
            ]
          },
          "metadata": {},
          "output_type": "display_data"
        },
        {
          "data": {
            "application/vnd.jupyter.widget-view+json": {
              "model_id": "bdcf6b2db3d84b8fb6ee10644e04cbb5",
              "version_major": 2,
              "version_minor": 0
            },
            "text/plain": [
              "tokenizer.json:   0%|          | 0.00/466k [00:00<?, ?B/s]"
            ]
          },
          "metadata": {},
          "output_type": "display_data"
        },
        {
          "data": {
            "application/vnd.jupyter.widget-view+json": {
              "model_id": "d6f9d6f5f42a40b5aa1940f824f74767",
              "version_major": 2,
              "version_minor": 0
            },
            "text/plain": [
              "config.json:   0%|          | 0.00/483 [00:00<?, ?B/s]"
            ]
          },
          "metadata": {},
          "output_type": "display_data"
        },
        {
          "data": {
            "application/vnd.jupyter.widget-view+json": {
              "model_id": "753d4f6bea4749a890624b3e9b0b260a",
              "version_major": 2,
              "version_minor": 0
            },
            "text/plain": [
              "model.safetensors:   0%|          | 0.00/268M [00:00<?, ?B/s]"
            ]
          },
          "metadata": {},
          "output_type": "display_data"
        },
        {
          "name": "stderr",
          "output_type": "stream",
          "text": [
            "/usr/local/lib/python3.10/dist-packages/sklearn/linear_model/_logistic.py:458: ConvergenceWarning: lbfgs failed to converge (status=1):\n",
            "STOP: TOTAL NO. of ITERATIONS REACHED LIMIT.\n",
            "\n",
            "Increase the number of iterations (max_iter) or scale the data as shown in:\n",
            "    https://scikit-learn.org/stable/modules/preprocessing.html\n",
            "Please also refer to the documentation for alternative solver options:\n",
            "    https://scikit-learn.org/stable/modules/linear_model.html#logistic-regression\n",
            "  n_iter_i = _check_optimize_result(\n"
          ]
        },
        {
          "name": "stdout",
          "output_type": "stream",
          "text": [
            "Accuracy: 0.6889741493175672\n",
            "Classification Report:\n",
            "              precision    recall  f1-score   support\n",
            "\n",
            "           0       0.64      0.86      0.73      7936\n",
            "           1       0.79      0.52      0.63      7963\n",
            "\n",
            "    accuracy                           0.69     15899\n",
            "   macro avg       0.71      0.69      0.68     15899\n",
            "weighted avg       0.71      0.69      0.68     15899\n",
            "\n"
          ]
        }
      ],
      "source": [
        "from transformers import DistilBertTokenizer, DistilBertModel\n",
        "from sklearn.linear_model import LogisticRegression\n",
        "from sklearn.metrics import classification_report, accuracy_score\n",
        "\n",
        "# Load DistilBERT tokenizer and model\n",
        "tokenizer = DistilBertTokenizer.from_pretrained('distilbert-base-uncased')\n",
        "model = DistilBertModel.from_pretrained('distilbert-base-uncased')\n",
        "\n",
        "# Tokenize and encode the text data\n",
        "X_train_encoded = [tokenizer.encode(text, add_special_tokens=True, max_length=512, truncation=True) for text in X_train]\n",
        "X_test_encoded = [tokenizer.encode(text, add_special_tokens=True, max_length=512, truncation=True) for text in X_test]\n",
        "\n",
        "# Padding to make all sequences of the same length\n",
        "max_len = max(map(len, X_train_encoded + X_test_encoded))\n",
        "X_train_padded = [i + [0]*(max_len-len(i)) for i in X_train_encoded]\n",
        "X_test_padded = [i + [0]*(max_len-len(i)) for i in X_test_encoded]\n",
        "\n",
        "# Train a logistic regression model on the BERT embeddings\n",
        "bert_model = LogisticRegression()\n",
        "bert_model.fit(X_train_padded, y_train)\n",
        "\n",
        "# Make predictions on the test set\n",
        "y_pred = bert_model.predict(X_test_padded)\n",
        "\n",
        "# Evaluate the model\n",
        "print(\"Accuracy:\", accuracy_score(y_test, y_pred))\n",
        "print(\"Classification Report:\")\n",
        "print(classification_report(y_test, y_pred))\n"
      ]
    },
    {
      "cell_type": "markdown",
      "metadata": {
        "id": "QZLWYDO9lySX"
      },
      "source": [
        "Comparing Accuracies of each Model"
      ]
    },
    {
      "cell_type": "code",
      "execution_count": null,
      "metadata": {
        "colab": {
          "background_save": true
        },
        "id": "w_k8lGLNP73u",
        "outputId": "0994be4d-6de7-4a47-9513-fe4dcef97ef5"
      },
      "outputs": [
        {
          "data": {
            "image/png": "[encoded data removed]",
            "text/plain": [
              "<Figure size 1000x600 with 1 Axes>"
            ]
          },
          "metadata": {},
          "output_type": "display_data"
        }
      ],
      "source": [
        "import matplotlib.pyplot as plt\n",
        "\n",
        "# Model names\n",
        "models = ['Logistic Regression', 'Naive Bayes', 'Stochastic Gradient', 'SVM', 'Random Forest', 'BERT', 'LSTM_model']\n",
        "\n",
        "# Corresponding accuracies\n",
        "accuracies = [0.86, 0.81, 0.86, 0.93, 0.93, 0.69, 0.91]\n",
        "\n",
        "# Create a bar plot\n",
        "plt.figure(figsize=(10, 6))\n",
        "bars = plt.bar(models, accuracies, color=['blue', 'orange', 'green', 'red', 'purple', 'brown'])\n",
        "plt.xlabel('Models')\n",
        "plt.ylabel('Accuracy')\n",
        "plt.title('Accuracy of Different Models')\n",
        "plt.ylim([0, 1])  # Set the y-axis limit to represent accuracy percentage\n",
        "\n",
        "# Display percentages on top of each bar\n",
        "for bar in bars:\n",
        "    yval = bar.get_height()\n",
        "    plt.text(bar.get_x() + bar.get_width()/2, yval + 0.01, f'{yval:.2%}', ha='center', va='bottom')\n",
        "\n",
        "plt.show()\n"
      ]
    },
    {
      "cell_type": "markdown",
      "metadata": {
        "id": "LVogyTtdlkkX"
      },
      "source": [
        "Receiver Operating Characteristic Curve(ROC)"
      ]
    },
    {
      "cell_type": "code",
      "execution_count": null,
      "metadata": {
        "colab": {
          "background_save": true
        },
        "id": "fVyR4d0UW_Fa",
        "outputId": "e7f6756a-5e73-400d-8a60-cc8bb7efd14e"
      },
      "outputs": [
        {
          "name": "stdout",
          "output_type": "stream",
          "text": [
            "Original Text: How about the old ugly gay guy @! what does he get\n",
            "Cleaned Text: How about the old ugly gay guy  what does he get\n",
            "Tokenized Text: ['How', 'about', 'the', 'old', 'ugly', 'gay', 'guy', 'what', 'does', 'he', 'get']\n",
            "Lowercased Text: ['how', 'about', 'the', 'old', 'ugly', 'gay', 'guy', 'what', 'does', 'he', 'get']\n",
            "Stopword Removed Text: ['old', 'ugly', 'gay', 'guy', 'get']\n",
            "Lemmatized Text: ['old', 'ugly', 'gay', 'guy', 'get']\n"
          ]
        }
      ],
      "source": [
        "import re\n",
        "from nltk.corpus import stopwords\n",
        "from nltk.stem import WordNetLemmatizer\n",
        "\n",
        "# Sample text\n",
        "sample_text = \"How about the old ugly gay guy @! what does he get\"\n",
        "\n",
        "# Text cleaning function\n",
        "def clean_text(text):\n",
        "    text = re.sub(r'http\\S+|www\\S+|@\\S+|#\\S+|[^A-Za-z\\s]', '', text)\n",
        "    return text\n",
        "\n",
        "# Tokenization function\n",
        "def tokenize_text(text):\n",
        "    return text.split()\n",
        "\n",
        "# Lowercasing function\n",
        "def lowercase_text(tokens):\n",
        "    return [word.lower() for word in tokens]\n",
        "\n",
        "# Stopword removal function\n",
        "def remove_stopwords(tokens):\n",
        "    stop_words = set(stopwords.words('english'))\n",
        "    return [word for word in tokens if word not in stop_words]\n",
        "\n",
        "# Lemmatization function\n",
        "def lemmatize_tokens(tokens):\n",
        "    lemmatizer = WordNetLemmatizer()\n",
        "    return [lemmatizer.lemmatize(word) for word in tokens]\n",
        "\n",
        "# Apply text cleaning\n",
        "cleaned_text = clean_text(sample_text)\n",
        "\n",
        "# Tokenization\n",
        "tokenized_text = tokenize_text(cleaned_text)\n",
        "\n",
        "# Lowercasing\n",
        "lowercased_text = lowercase_text(tokenized_text)\n",
        "\n",
        "# Stopword removal\n",
        "stopword_removed_text = remove_stopwords(lowercased_text)\n",
        "\n",
        "# Lemmatization\n",
        "lemmatized_text = lemmatize_tokens(stopword_removed_text)\n",
        "\n",
        "# Display the results\n",
        "print(\"Original Text:\", sample_text)\n",
        "print(\"Cleaned Text:\", cleaned_text)\n",
        "print(\"Tokenized Text:\", tokenized_text)\n",
        "print(\"Lowercased Text:\", lowercased_text)\n",
        "print(\"Stopword Removed Text:\", stopword_removed_text)\n",
        "print(\"Lemmatized Text:\", lemmatized_text)\n"
      ]
    }
  ],
  "metadata": {
    "colab": {
      "provenance": []
    },
    "kernelspec": {
      "display_name": "Python 3",
      "name": "python3"
    },
    "language_info": {
      "name": "python"
    }
  },
  "nbformat": 4,
  "nbformat_minor": 0
}